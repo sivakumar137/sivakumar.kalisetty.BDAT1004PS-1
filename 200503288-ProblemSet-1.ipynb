{
 "cells": [
  {
   "cell_type": "code",
   "execution_count": null,
   "id": "1e2731a3",
   "metadata": {},
   "outputs": [],
   "source": [
    "#1Answer\n",
    "\n",
    "\n",
    "5 -->  Int\n",
    "\n",
    "5.0 -->  Float\n",
    "\n",
    "5 > 1 -->  bool\n",
    "\n",
    "'5' -->  char\n",
    "\n",
    "5 * 2 -->  Int\n",
    "\n",
    "'5' * 2 -->  char\n",
    "\n",
    "'5' + '2' --> string\n",
    "\n",
    "5 / 2 --> float\n",
    "\n",
    "5 % 2 --> Int\n",
    "\n",
    "{5, 2, 1} --> Array\n",
    "\n",
    "5 == 3 --> bool\n",
    "\n",
    "Pi (the number) --> decimal"
   ]
  },
  {
   "cell_type": "code",
   "execution_count": null,
   "id": "e84a4d9f",
   "metadata": {},
   "outputs": [],
   "source": [
    "#2a and 2b Answers\n",
    "\n",
    "String a= \"Supercalifragilisticexpialidocious\";\n",
    "Console.WriteLine(a.Length);\n",
    "if (a.Contains(\"ice\"))\n",
    "{\n",
    "    Console.WriteLine(\"The word contains ice as substring\");\n",
    "}\n",
    "else\n",
    "{\n",
    "  Console.WriteLine(\"The word does not contains ice as substring\");\n",
    "}\n"
   ]
  },
  {
   "cell_type": "code",
   "execution_count": null,
   "id": "1058e59a",
   "metadata": {},
   "outputs": [],
   "source": [
    "#2c Answer\n",
    "\n",
    "\n",
    "string str1 = \"Supercalifragilisticexpialidocious\";\n",
    "string str2 = \"Honorificabilitudinitatibus\";\n",
    "string str3 = \"Bababadalgharaghtakamminarronnkonn\";\n",
    "\n",
    "Console.WriteLine(str1.Length);\n",
    "Console.WriteLine(str2.Length);\n",
    "Console.WriteLine(str3.Length);\n",
    "\n",
    "\n",
    "#Both str1 and str2 are longest words"
   ]
  },
  {
   "cell_type": "code",
   "execution_count": null,
   "id": "3379f87a",
   "metadata": {},
   "outputs": [],
   "source": [
    "#2d Answer\n",
    "\n",
    "using System;\n",
    "using System.Collections.Generic;\n",
    "\n",
    "namespace console\n",
    "{\n",
    "    class Program\n",
    "    {\n",
    "        static void Main(string[] args)\n",
    "        {\n",
    "            List<string> lis = new List<string>\n",
    "            {\"Berlioz\", \"Borodin\", \"Brian\", \"Bartok\", \"Bellini\", \"Buxtehude\", \"Bernstein\"};\n",
    "           \n",
    "            lis.Sort();\n",
    "            \n",
    "           foreach (string s in lis)\n",
    "            {\n",
    "                Console.WriteLine(s);\n",
    "            }\n",
    "        }\n",
    "    }\n",
    "}\n",
    "\n"
   ]
  },
  {
   "cell_type": "code",
   "execution_count": null,
   "id": "4e8724d0",
   "metadata": {},
   "outputs": [],
   "source": [
    "#3 Answer\n",
    "\n",
    "double triangleArea(double a,double b,double c)\n",
    "{\n",
    "    double s = (a + b + c)/ 2;\n",
    "    double area = Math.Sqrt(s*(s-a)*(s-b)*(s-c));\n",
    "    return area;\n",
    "}\n",
    "double area = triangleArea(2.0, 2.0, 2.0);\n",
    "\n",
    "Console.WriteLine(area);"
   ]
  },
  {
   "cell_type": "code",
   "execution_count": null,
   "id": "5d31a849",
   "metadata": {},
   "outputs": [],
   "source": [
    "#4 Answer\n",
    "\n",
    "int numOfInputs = 5;\n",
    "int evenCount = 0;\n",
    "int oddCount = 0;\n",
    "int[] oddNums = new int[numOfInputs];\n",
    "int[] evenNums = new int[numOfInputs];\n",
    "int[] num = new int[5] { 25, 47, 42, 56, 32 };\n",
    "\n",
    "for (int i = 0; i < numOfInputs; i++)\n",
    "{\n",
    "    int No = num[i];\n",
    "    if ((No % 2) == 0)\n",
    "    {\n",
    "        evenNums[evenCount] = num[i];\n",
    "        evenCount++;\n",
    "    }\n",
    "    else\n",
    "    {\n",
    "        oddNums[oddCount] = num[i];\n",
    "        oddCount ++;\n",
    "    }\n",
    "}\n",
    "Console.WriteLine(\"The Even elements are:\");\n",
    "for (int i = 0; i < evenCount; i++)\n",
    "{\n",
    "    Console.Write(\"{0} \", evenNums[i]);\n",
    "}\n",
    "Console.WriteLine(\"\");\n",
    "Console.WriteLine(\"The Odd elements are:\");\n",
    "\n",
    "for (int i = 0; i < oddCount; i++)\n",
    "{\n",
    "    Console.Write(\"{0} \", oddNums[i]);\n",
    "}"
   ]
  },
  {
   "cell_type": "code",
   "execution_count": null,
   "id": "bacbcd62",
   "metadata": {},
   "outputs": [],
   "source": [
    "#5a Answer\n",
    "\n",
    "using System;\n",
    "\n",
    "namespace rectangle { \n",
    "    class Program \n",
    "    { static void Main(string[] args) \n",
    "        { Console.WriteLine(inside(1, 1, 0, 0, 2, 3)); \n",
    "          Console.WriteLine(inside(-1, -1, 0, 0, 2, 3)); \n",
    "    }\n",
    "        static bool inside(int x, int y, int x1, int y1, int x2, int y2)\n",
    "        { if (x > x1 && x < x2 && y > y1 && y < y2)\n",
    "            { return true;\n",
    "            } \n",
    "            else\n",
    "            { return false; }\n",
    "        }\n",
    "    }\n",
    "}\n",
    "\n"
   ]
  },
  {
   "cell_type": "code",
   "execution_count": null,
   "id": "f88120c1",
   "metadata": {},
   "outputs": [],
   "source": [
    "#5b Answer\n",
    "\n",
    "using System;\n",
    "\n",
    "namespace rectangle\n",
    "{ class Program \n",
    "    { static void Main(string[] args) \n",
    "        { Console.WriteLine(inside(1, 1, 0.3, 0.5, 1.1, 0.7)); \n",
    "          Console.WriteLine(inside(1, 1, 0.5, 0.2, 1.1, 2)); \n",
    "        } static bool inside(double x, double y, double x1, double y1, double x2, double y2) \n",
    "        { if (x > x1 && x < x2 && y > y1 && y < y2)\n",
    "            { \n",
    "                return true; \n",
    "            } \n",
    "            else { \n",
    "                return false; \n",
    "            }\n",
    "        }\n",
    "    }\n",
    "}\n",
    "\n",
    "\n",
    "\n",
    "\n"
   ]
  },
  {
   "cell_type": "code",
   "execution_count": 6,
   "id": "2dd85905",
   "metadata": {},
   "outputs": [
    {
     "name": "stdout",
     "output_type": "stream",
     "text": [
      "appyhay\n",
      "enterway\n"
     ]
    }
   ],
   "source": [
    "#6 Answer\n",
    "\n",
    "def pig(word):\n",
    "    word=word.lower()\n",
    "    if word[0] not in ['a','e','i','o','u']:\n",
    "        r=word[1:]+word[0]+\"ay\"\n",
    "        print(r)\n",
    "    else:\n",
    "        r=word+\"way\"\n",
    "        print(r)\n",
    "    \n",
    "pig('happy')\n",
    "pig('Enter')"
   ]
  },
  {
   "cell_type": "code",
   "execution_count": 7,
   "id": "7e0e6ca9",
   "metadata": {},
   "outputs": [
    {
     "name": "stdout",
     "output_type": "stream",
     "text": [
      "There are 15 patients of blood type A.\n",
      "There is one patient of blood type B.\n",
      "There are 13 patients of blood type AB.\n",
      "There are 15 patients of blood type O.\n",
      "There are no patients of blood type OO.\n"
     ]
    }
   ],
   "source": [
    "#7 Answer\n",
    "\n",
    "def bldcount(f):    \n",
    "    i=open(f)\n",
    "    c=i.read()\n",
    "    i.close()\n",
    "    l=c.split() \n",
    "    for i in ['A', 'B', 'AB', 'O' , 'OO']:\n",
    "        if l.count(i)>1:\n",
    "            print(\"There are \" + str(l.count(i)) +\" patients of blood type \"+ i+\".\")\n",
    "        elif l.count(i)==1:\n",
    "            print(\"There is one patient of blood type \"+ i+\".\")\n",
    "        elif l.count(i)==0:\n",
    "            print(\"There are no patients of blood type \"+i+\".\")\n",
    "            \n",
    "bldcount(\"C:\\\\Users\\\\91863\\\\Desktop\\\\bloodtype1.txt\")\n",
    "  "
   ]
  },
  {
   "cell_type": "code",
   "execution_count": 8,
   "id": "7754f82a",
   "metadata": {},
   "outputs": [
    {
     "name": "stdout",
     "output_type": "stream",
     "text": [
      "122.96544\n",
      "1.241401\n"
     ]
    }
   ],
   "source": [
    "#8 Answer\n",
    "\n",
    "def curconv(currency, amount):\n",
    "    rates = open(\"C:\\\\Users\\\\91863\\\\Desktop\\\\currencies.txt\",\"r\")\n",
    "    \n",
    "    readable_rate = rates.read().split(\"\\n\")\n",
    "    for i in readable_rate:\n",
    "        finalList = i.split(\"\\t\")\n",
    "        if(finalList[0] == currency):\n",
    "            print(float(finalList[1]) * amount)   \n",
    "curconv('EUR', 100)\n",
    "curconv('JPY', 100)"
   ]
  },
  {
   "cell_type": "code",
   "execution_count": 9,
   "id": "11bbfc55",
   "metadata": {},
   "outputs": [
    {
     "ename": "SyntaxError",
     "evalue": "invalid character in identifier (<ipython-input-9-4f8bc7c26bf8>, line 3)",
     "output_type": "error",
     "traceback": [
      "\u001b[1;36m  File \u001b[1;32m\"<ipython-input-9-4f8bc7c26bf8>\"\u001b[1;36m, line \u001b[1;32m3\u001b[0m\n\u001b[1;33m    6 + ‘a’\u001b[0m\n\u001b[1;37m          ^\u001b[0m\n\u001b[1;31mSyntaxError\u001b[0m\u001b[1;31m:\u001b[0m invalid character in identifier\n"
     ]
    }
   ],
   "source": [
    "#9a Answer\n",
    "\n",
    "6 + ‘a’\n",
    "\n"
   ]
  },
  {
   "cell_type": "code",
   "execution_count": 12,
   "id": "eb388e14",
   "metadata": {},
   "outputs": [
    {
     "ename": "IndexError",
     "evalue": "list index out of range",
     "output_type": "error",
     "traceback": [
      "\u001b[1;31m---------------------------------------------------------------------------\u001b[0m",
      "\u001b[1;31mIndexError\u001b[0m                                Traceback (most recent call last)",
      "\u001b[1;32m<ipython-input-12-3fccd51ba442>\u001b[0m in \u001b[0;36m<module>\u001b[1;34m\u001b[0m\n\u001b[0;32m      2\u001b[0m \u001b[1;33m\u001b[0m\u001b[0m\n\u001b[0;32m      3\u001b[0m \u001b[0mlst\u001b[0m \u001b[1;33m=\u001b[0m \u001b[1;33m[\u001b[0m\u001b[1;36m0\u001b[0m\u001b[1;33m,\u001b[0m\u001b[1;36m1\u001b[0m\u001b[1;33m,\u001b[0m\u001b[1;36m2\u001b[0m\u001b[1;33m,\u001b[0m\u001b[1;36m3\u001b[0m\u001b[1;33m,\u001b[0m\u001b[1;36m4\u001b[0m\u001b[1;33m,\u001b[0m\u001b[1;36m5\u001b[0m\u001b[1;33m,\u001b[0m\u001b[1;36m6\u001b[0m\u001b[1;33m,\u001b[0m\u001b[1;36m7\u001b[0m\u001b[1;33m,\u001b[0m\u001b[1;36m8\u001b[0m\u001b[1;33m,\u001b[0m\u001b[1;36m9\u001b[0m\u001b[1;33m]\u001b[0m\u001b[1;33m\u001b[0m\u001b[1;33m\u001b[0m\u001b[0m\n\u001b[1;32m----> 4\u001b[1;33m \u001b[0ma\u001b[0m\u001b[1;33m=\u001b[0m \u001b[0mlst\u001b[0m\u001b[1;33m[\u001b[0m\u001b[1;36m12\u001b[0m\u001b[1;33m]\u001b[0m\u001b[1;33m\u001b[0m\u001b[1;33m\u001b[0m\u001b[0m\n\u001b[0m",
      "\u001b[1;31mIndexError\u001b[0m: list index out of range"
     ]
    }
   ],
   "source": [
    "#9b Answer\n",
    "\n",
    "lst = [0,1,2,3,4,5,6,7,8,9]\n",
    "a= lst[12]"
   ]
  },
  {
   "cell_type": "code",
   "execution_count": 15,
   "id": "90a4f7a5",
   "metadata": {},
   "outputs": [
    {
     "ename": "ValueError",
     "evalue": "math domain error",
     "output_type": "error",
     "traceback": [
      "\u001b[1;31m---------------------------------------------------------------------------\u001b[0m",
      "\u001b[1;31mValueError\u001b[0m                                Traceback (most recent call last)",
      "\u001b[1;32m<ipython-input-15-d83806dea236>\u001b[0m in \u001b[0;36m<module>\u001b[1;34m\u001b[0m\n\u001b[0;32m      3\u001b[0m \u001b[1;32mimport\u001b[0m \u001b[0mmath\u001b[0m\u001b[1;33m\u001b[0m\u001b[1;33m\u001b[0m\u001b[0m\n\u001b[0;32m      4\u001b[0m \u001b[1;33m\u001b[0m\u001b[0m\n\u001b[1;32m----> 5\u001b[1;33m \u001b[0msqrt\u001b[0m \u001b[1;33m=\u001b[0m \u001b[0mmath\u001b[0m\u001b[1;33m.\u001b[0m\u001b[0msqrt\u001b[0m\u001b[1;33m(\u001b[0m\u001b[1;33m-\u001b[0m\u001b[1;36m2.0\u001b[0m\u001b[1;33m)\u001b[0m\u001b[1;33m\u001b[0m\u001b[1;33m\u001b[0m\u001b[0m\n\u001b[0m\u001b[0;32m      6\u001b[0m \u001b[1;33m\u001b[0m\u001b[0m\n\u001b[0;32m      7\u001b[0m \u001b[0mprint\u001b[0m\u001b[1;33m(\u001b[0m\u001b[1;34m\"Squareroot of \"\u001b[0m \u001b[1;33m+\u001b[0m \u001b[0mstr\u001b[0m\u001b[1;33m(\u001b[0m\u001b[0mn\u001b[0m\u001b[1;33m)\u001b[0m \u001b[1;33m+\u001b[0m \u001b[1;34m\" is : \"\u001b[0m \u001b[1;33m+\u001b[0m \u001b[0mstr\u001b[0m\u001b[1;33m(\u001b[0m\u001b[0msqrt\u001b[0m\u001b[1;33m)\u001b[0m\u001b[1;33m)\u001b[0m\u001b[1;33m\u001b[0m\u001b[1;33m\u001b[0m\u001b[0m\n",
      "\u001b[1;31mValueError\u001b[0m: math domain error"
     ]
    }
   ],
   "source": [
    "#9c Answer\n",
    "\n",
    "import math\n",
    "\n",
    "sqrt = math.sqrt(-2.0)\n",
    "\n",
    "print(\"Squareroot of \" + str(n) + \" is : \" + str(sqrt))\n"
   ]
  },
  {
   "cell_type": "code",
   "execution_count": 14,
   "id": "c3684dec",
   "metadata": {},
   "outputs": [
    {
     "ename": "NameError",
     "evalue": "name 'x' is not defined",
     "output_type": "error",
     "traceback": [
      "\u001b[1;31m---------------------------------------------------------------------------\u001b[0m",
      "\u001b[1;31mNameError\u001b[0m                                 Traceback (most recent call last)",
      "\u001b[1;32m<ipython-input-14-840691dedf43>\u001b[0m in \u001b[0;36m<module>\u001b[1;34m\u001b[0m\n\u001b[0;32m      1\u001b[0m \u001b[1;31m#9d\u001b[0m\u001b[1;33m\u001b[0m\u001b[1;33m\u001b[0m\u001b[1;33m\u001b[0m\u001b[0m\n\u001b[0;32m      2\u001b[0m \u001b[1;33m\u001b[0m\u001b[0m\n\u001b[1;32m----> 3\u001b[1;33m \u001b[0mprint\u001b[0m\u001b[1;33m(\u001b[0m\u001b[0mx\u001b[0m\u001b[1;33m)\u001b[0m\u001b[1;33m\u001b[0m\u001b[1;33m\u001b[0m\u001b[0m\n\u001b[0m",
      "\u001b[1;31mNameError\u001b[0m: name 'x' is not defined"
     ]
    }
   ],
   "source": [
    "#9d Answer\n",
    "\n",
    "print(x)"
   ]
  },
  {
   "cell_type": "code",
   "execution_count": 16,
   "id": "10d49f76",
   "metadata": {},
   "outputs": [
    {
     "ename": "FileNotFoundError",
     "evalue": "[Errno 2] No such file or directory: 'C:\\\\Users\\\\91863\\\\Desktop\\\\Test.txt'",
     "output_type": "error",
     "traceback": [
      "\u001b[1;31m---------------------------------------------------------------------------\u001b[0m",
      "\u001b[1;31mFileNotFoundError\u001b[0m                         Traceback (most recent call last)",
      "\u001b[1;32m<ipython-input-16-8b7893f3131e>\u001b[0m in \u001b[0;36m<module>\u001b[1;34m\u001b[0m\n\u001b[0;32m      1\u001b[0m \u001b[1;31m#9e\u001b[0m\u001b[1;33m\u001b[0m\u001b[1;33m\u001b[0m\u001b[1;33m\u001b[0m\u001b[0m\n\u001b[0;32m      2\u001b[0m \u001b[1;33m\u001b[0m\u001b[0m\n\u001b[1;32m----> 3\u001b[1;33m \u001b[0mfile\u001b[0m \u001b[1;33m=\u001b[0m \u001b[0mopen\u001b[0m\u001b[1;33m(\u001b[0m\u001b[1;34m\"C:\\\\Users\\\\91863\\\\Desktop\\\\Test.txt\"\u001b[0m\u001b[1;33m,\u001b[0m \u001b[1;34m\"r\"\u001b[0m\u001b[1;33m)\u001b[0m\u001b[1;33m\u001b[0m\u001b[1;33m\u001b[0m\u001b[0m\n\u001b[0m\u001b[0;32m      4\u001b[0m \u001b[0mprint\u001b[0m\u001b[1;33m(\u001b[0m\u001b[0mfile\u001b[0m\u001b[1;33m.\u001b[0m\u001b[0mread\u001b[0m\u001b[1;33m(\u001b[0m\u001b[1;33m)\u001b[0m\u001b[1;33m)\u001b[0m\u001b[1;33m\u001b[0m\u001b[1;33m\u001b[0m\u001b[0m\n",
      "\u001b[1;31mFileNotFoundError\u001b[0m: [Errno 2] No such file or directory: 'C:\\\\Users\\\\91863\\\\Desktop\\\\Test.txt'"
     ]
    }
   ],
   "source": [
    "#9e Answer\n",
    "\n",
    "file = open(\"C:\\\\Users\\\\91863\\\\Desktop\\\\Test.txt\", \"r\")\n",
    "print(file.read())"
   ]
  },
  {
   "cell_type": "code",
   "execution_count": 19,
   "id": "04c65d2c",
   "metadata": {},
   "outputs": [
    {
     "name": "stdout",
     "output_type": "stream",
     "text": [
      "Enter a stringAPPLE\n",
      "26\n",
      "[1, 0, 0, 0, 1, 0, 0, 0, 0, 0, 0, 1, 0, 0, 0, 2, 0, 0, 0, 0, 0, 0, 0, 0, 0, 0]\n"
     ]
    }
   ],
   "source": [
    "#10 Answer\n",
    "\n",
    "\n",
    "def frequencies():\n",
    "    appendingList=[]\n",
    "    name = input(\"Enter a string\")\n",
    "    m = \"ABCDEFGHIJKLMNOPQRSTUVWXYZ\"\n",
    "    n = 0\n",
    "    print(len(m))\n",
    "    while(n < len(m)):\n",
    "        k = name.count(m[n])\n",
    "        appendingList.append(k)\n",
    "        n = n + 1\n",
    "        \n",
    "    print(appendingList)\n",
    "\n",
    "frequencies()\n",
    "        "
   ]
  },
  {
   "cell_type": "code",
   "execution_count": null,
   "id": "0ae1389e",
   "metadata": {},
   "outputs": [],
   "source": []
  }
 ],
 "metadata": {
  "kernelspec": {
   "display_name": "Python 3",
   "language": "python",
   "name": "python3"
  },
  "language_info": {
   "codemirror_mode": {
    "name": "ipython",
    "version": 3
   },
   "file_extension": ".py",
   "mimetype": "text/x-python",
   "name": "python",
   "nbconvert_exporter": "python",
   "pygments_lexer": "ipython3",
   "version": "3.8.8"
  }
 },
 "nbformat": 4,
 "nbformat_minor": 5
}
